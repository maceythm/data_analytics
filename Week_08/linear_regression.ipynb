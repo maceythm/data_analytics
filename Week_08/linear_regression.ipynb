{
 "cells": [
  {
   "cell_type": "markdown",
   "id": "1e84aff8",
   "metadata": {},
   "source": [
    "# Linear regression"
   ]
  },
  {
   "cell_type": "markdown",
   "id": "d9ca506b",
   "metadata": {},
   "source": [
    "## Libraries and settings"
   ]
  },
  {
   "cell_type": "code",
   "execution_count": 108,
   "id": "3cc498a3",
   "metadata": {},
   "outputs": [
    {
     "name": "stdout",
     "output_type": "stream",
     "text": [
      "/workspaces/data_analytics/Week_08\n"
     ]
    }
   ],
   "source": [
    "# Libraries\n",
    "import os\n",
    "import numpy as np\n",
    "import pandas as pd\n",
    "import scipy.stats as stats\n",
    "import statsmodels.api as sm\n",
    "import matplotlib.pyplot as plt\n",
    "from sklearn import linear_model\n",
    "from sklearn.model_selection import train_test_split\n",
    "\n",
    "# Ignore warnings\n",
    "import warnings\n",
    "warnings.filterwarnings('ignore')\n",
    "\n",
    "# Show current working directory\n",
    "print(os.getcwd())"
   ]
  },
  {
   "cell_type": "markdown",
   "id": "514d3419",
   "metadata": {},
   "source": [
    "## Import the apartment data"
   ]
  },
  {
   "cell_type": "code",
   "execution_count": 109,
   "id": "fc8846ed",
   "metadata": {},
   "outputs": [
    {
     "name": "stdout",
     "output_type": "stream",
     "text": [
      "(722, 17)\n"
     ]
    },
    {
     "data": {
      "text/html": [
       "<div>\n",
       "<style scoped>\n",
       "    .dataframe tbody tr th:only-of-type {\n",
       "        vertical-align: middle;\n",
       "    }\n",
       "\n",
       "    .dataframe tbody tr th {\n",
       "        vertical-align: top;\n",
       "    }\n",
       "\n",
       "    .dataframe thead th {\n",
       "        text-align: right;\n",
       "    }\n",
       "</style>\n",
       "<table border=\"1\" class=\"dataframe\">\n",
       "  <thead>\n",
       "    <tr style=\"text-align: right;\">\n",
       "      <th></th>\n",
       "      <th>id</th>\n",
       "      <th>address_raw</th>\n",
       "      <th>rooms</th>\n",
       "      <th>area</th>\n",
       "      <th>luxurious</th>\n",
       "      <th>price</th>\n",
       "      <th>price_per_m2</th>\n",
       "      <th>lat</th>\n",
       "      <th>lon</th>\n",
       "      <th>bfs_number</th>\n",
       "      <th>bfs_name</th>\n",
       "      <th>pop</th>\n",
       "      <th>pop_dens</th>\n",
       "      <th>frg_pct</th>\n",
       "      <th>emp</th>\n",
       "      <th>mean_taxable_income</th>\n",
       "      <th>dist_supermarket</th>\n",
       "    </tr>\n",
       "  </thead>\n",
       "  <tbody>\n",
       "    <tr>\n",
       "      <th>0</th>\n",
       "      <td>1693998201-1</td>\n",
       "      <td>Neuhusstrasse 6, 8630 Rüti ZH, ZH</td>\n",
       "      <td>3.0</td>\n",
       "      <td>49</td>\n",
       "      <td>0</td>\n",
       "      <td>1441</td>\n",
       "      <td>29.41</td>\n",
       "      <td>47.252171</td>\n",
       "      <td>8.845797</td>\n",
       "      <td>118</td>\n",
       "      <td>Rüti (ZH)</td>\n",
       "      <td>12286</td>\n",
       "      <td>1221.272366</td>\n",
       "      <td>24.841283</td>\n",
       "      <td>5053</td>\n",
       "      <td>65362.04268</td>\n",
       "      <td>645.652248</td>\n",
       "    </tr>\n",
       "    <tr>\n",
       "      <th>1</th>\n",
       "      <td>1693998233-172</td>\n",
       "      <td>Widacherstrasse 5, 8630 Rüti ZH, ZH</td>\n",
       "      <td>3.0</td>\n",
       "      <td>111</td>\n",
       "      <td>0</td>\n",
       "      <td>2600</td>\n",
       "      <td>23.42</td>\n",
       "      <td>47.252087</td>\n",
       "      <td>8.854919</td>\n",
       "      <td>118</td>\n",
       "      <td>Rüti (ZH)</td>\n",
       "      <td>12286</td>\n",
       "      <td>1221.272366</td>\n",
       "      <td>24.841283</td>\n",
       "      <td>5053</td>\n",
       "      <td>65362.04268</td>\n",
       "      <td>265.102153</td>\n",
       "    </tr>\n",
       "    <tr>\n",
       "      <th>2</th>\n",
       "      <td>1693998256-331</td>\n",
       "      <td>Widenweg 14, 8630 Rüti ZH, ZH</td>\n",
       "      <td>3.0</td>\n",
       "      <td>58</td>\n",
       "      <td>0</td>\n",
       "      <td>1490</td>\n",
       "      <td>25.69</td>\n",
       "      <td>47.253670</td>\n",
       "      <td>8.853993</td>\n",
       "      <td>118</td>\n",
       "      <td>Rüti (ZH)</td>\n",
       "      <td>12286</td>\n",
       "      <td>1221.272366</td>\n",
       "      <td>24.841283</td>\n",
       "      <td>5053</td>\n",
       "      <td>65362.04268</td>\n",
       "      <td>94.401821</td>\n",
       "    </tr>\n",
       "    <tr>\n",
       "      <th>3</th>\n",
       "      <td>1693998265-381</td>\n",
       "      <td>Rain 1, 8630 Rüti ZH, ZH</td>\n",
       "      <td>4.0</td>\n",
       "      <td>118</td>\n",
       "      <td>0</td>\n",
       "      <td>3240</td>\n",
       "      <td>27.46</td>\n",
       "      <td>47.259834</td>\n",
       "      <td>8.851705</td>\n",
       "      <td>118</td>\n",
       "      <td>Rüti (ZH)</td>\n",
       "      <td>12286</td>\n",
       "      <td>1221.272366</td>\n",
       "      <td>24.841283</td>\n",
       "      <td>5053</td>\n",
       "      <td>65362.04268</td>\n",
       "      <td>106.660970</td>\n",
       "    </tr>\n",
       "    <tr>\n",
       "      <th>4</th>\n",
       "      <td>1693998276-419</td>\n",
       "      <td>Bachtelstrasse 24b, 8630 Rüti ZH, ZH</td>\n",
       "      <td>3.0</td>\n",
       "      <td>66</td>\n",
       "      <td>0</td>\n",
       "      <td>1450</td>\n",
       "      <td>21.97</td>\n",
       "      <td>47.266113</td>\n",
       "      <td>8.866872</td>\n",
       "      <td>118</td>\n",
       "      <td>Rüti (ZH)</td>\n",
       "      <td>12286</td>\n",
       "      <td>1221.272366</td>\n",
       "      <td>24.841283</td>\n",
       "      <td>5053</td>\n",
       "      <td>65362.04268</td>\n",
       "      <td>974.844209</td>\n",
       "    </tr>\n",
       "  </tbody>\n",
       "</table>\n",
       "</div>"
      ],
      "text/plain": [
       "               id                           address_raw  rooms  area  \\\n",
       "0    1693998201-1     Neuhusstrasse 6, 8630 Rüti ZH, ZH    3.0    49   \n",
       "1  1693998233-172   Widacherstrasse 5, 8630 Rüti ZH, ZH    3.0   111   \n",
       "2  1693998256-331         Widenweg 14, 8630 Rüti ZH, ZH    3.0    58   \n",
       "3  1693998265-381              Rain 1, 8630 Rüti ZH, ZH    4.0   118   \n",
       "4  1693998276-419  Bachtelstrasse 24b, 8630 Rüti ZH, ZH    3.0    66   \n",
       "\n",
       "   luxurious  price  price_per_m2        lat       lon  bfs_number   bfs_name  \\\n",
       "0          0   1441         29.41  47.252171  8.845797         118  Rüti (ZH)   \n",
       "1          0   2600         23.42  47.252087  8.854919         118  Rüti (ZH)   \n",
       "2          0   1490         25.69  47.253670  8.853993         118  Rüti (ZH)   \n",
       "3          0   3240         27.46  47.259834  8.851705         118  Rüti (ZH)   \n",
       "4          0   1450         21.97  47.266113  8.866872         118  Rüti (ZH)   \n",
       "\n",
       "     pop     pop_dens    frg_pct   emp  mean_taxable_income  dist_supermarket  \n",
       "0  12286  1221.272366  24.841283  5053          65362.04268        645.652248  \n",
       "1  12286  1221.272366  24.841283  5053          65362.04268        265.102153  \n",
       "2  12286  1221.272366  24.841283  5053          65362.04268         94.401821  \n",
       "3  12286  1221.272366  24.841283  5053          65362.04268        106.660970  \n",
       "4  12286  1221.272366  24.841283  5053          65362.04268        974.844209  "
      ]
     },
     "execution_count": 109,
     "metadata": {},
     "output_type": "execute_result"
    }
   ],
   "source": [
    "# Define columns for import\n",
    "columns = [ 'web-scraper-order',\n",
    "            'address_raw',\n",
    "            'rooms',\n",
    "            'area',\n",
    "            'luxurious',\n",
    "            'price',\n",
    "            'price_per_m2',\n",
    "            'lat',\n",
    "            'lon',\n",
    "            'bfs_number',\n",
    "            'bfs_name',\n",
    "            'pop',\n",
    "            'pop_dens',\n",
    "            'frg_pct',\n",
    "            'emp',\n",
    "            'mean_taxable_income',\n",
    "            'dist_supermarket']\n",
    "\n",
    "# Read and select variables\n",
    "df_orig = pd.read_csv(\"apartments_data_enriched_cleaned.csv\", \n",
    "                      sep=\";\", \n",
    "                      encoding='utf-8')[columns]\n",
    "\n",
    "# Rename variable 'web-scraper-order' to 'apmt_id'\n",
    "df_orig = df_orig.rename(columns={'web-scraper-order': 'id'})\n",
    "\n",
    "# Remove missing values\n",
    "df = df_orig.dropna()\n",
    "df.head(5)\n",
    "\n",
    "# Remove duplicates\n",
    "df = df.drop_duplicates()\n",
    "\n",
    "# Remove some 'extreme' values\n",
    "df = df.loc[(df['price'] >= 1000) & \n",
    "            (df['price'] <= 5000)]\n",
    "\n",
    "print(df.shape)\n",
    "df.head(5)"
   ]
  },
  {
   "cell_type": "markdown",
   "id": "e43dabac",
   "metadata": {},
   "source": [
    "## Simple linear regression (only one explanatory variable in the model)\n",
    "For details see: https://docs.scipy.org/doc/scipy/reference/generated/scipy.stats.linregress.html"
   ]
  },
  {
   "cell_type": "markdown",
   "id": "f2ba09cd",
   "metadata": {},
   "source": [
    "### Create train and test samples (train = 80%, test = 20% of the data)"
   ]
  },
  {
   "cell_type": "code",
   "execution_count": 110,
   "id": "ebba6b44",
   "metadata": {},
   "outputs": [
    {
     "name": "stdout",
     "output_type": "stream",
     "text": [
      "X_train:\n",
      "503    120\n",
      "6       65\n",
      "400     90\n",
      "644     63\n",
      "484     91\n",
      "Name: area, dtype: int64 \n",
      "\n",
      "y_train:\n",
      "503    1900\n",
      "6      1850\n",
      "400    2090\n",
      "644    2102\n",
      "484    1800\n",
      "Name: price, dtype: int64\n"
     ]
    }
   ],
   "source": [
    "# Create train and test samples\n",
    "X_train, X_test, y_train, y_test = train_test_split(df['area'], \n",
    "                                                    df['price'], \n",
    "                                                    test_size=0.20, \n",
    "                                                    random_state=42)\n",
    "# Show X_train\n",
    "print('X_train:')\n",
    "print(X_train.head(), '\\n')\n",
    "\n",
    "# Show y_train\n",
    "print('y_train:')\n",
    "print(y_train.head())"
   ]
  },
  {
   "cell_type": "markdown",
   "id": "f32a7699",
   "metadata": {},
   "source": [
    "### Fit the simple linear regression model"
   ]
  },
  {
   "cell_type": "code",
   "execution_count": 111,
   "id": "8b2fc4ac",
   "metadata": {},
   "outputs": [
    {
     "name": "stdout",
     "output_type": "stream",
     "text": [
      "Linear regression result:\n",
      "Intercept with y-axis (alpha):            1272.94\n",
      "Slope of regression line (beta):          13.548\n",
      "p-value:                                  0.0000\n",
      "R-squared (coefficient of determination): 0.3678\n"
     ]
    }
   ],
   "source": [
    "# Fit the regression model\n",
    "slope, intercept, r, p, std_err = stats.linregress(X_train, y_train)\n",
    "\n",
    "# Print results of the regression model\n",
    "print('Linear regression result:')\n",
    "print(f'Intercept with y-axis (alpha):            {intercept:.2f}')\n",
    "print(f'Slope of regression line (beta):          {slope:.3f}')\n",
    "print(f'p-value:                                  {p:.4f}')\n",
    "print(f'R-squared (coefficient of determination): {r**2:.4f}')"
   ]
  },
  {
   "cell_type": "markdown",
   "id": "473eaddb",
   "metadata": {},
   "source": [
    "### Plot regression line"
   ]
  },
  {
   "cell_type": "code",
   "execution_count": 112,
   "id": "944adc0b",
   "metadata": {},
   "outputs": [
    {
     "data": {
      "image/png": "[encoded data removed]",
      "text/plain": [
       "<Figure size 600x400 with 1 Axes>"
      ]
     },
     "metadata": {},
     "output_type": "display_data"
    }
   ],
   "source": [
    "# Function to calculate model predictions\n",
    "def myfunc(x):\n",
    "    return slope * x + intercept\n",
    "\n",
    "# Apply myfunc() to x, i.e. make predictions \n",
    "mymodel = pd.Series(map(myfunc, X_train))\n",
    "\n",
    "# Scatterplot with regression line\n",
    "plt.figure(figsize=(6,4))\n",
    "plt.scatter(X_train, y_train, s=10, color='green')\n",
    "plt.plot(X_train, mymodel, color='darkred', linestyle='dashed')\n",
    "plt.title('Simple Linear Regression')\n",
    "plt.xlabel('area (m2)')\n",
    "plt.ylabel('price (CHF)')\n",
    "\n",
    "plt.show()"
   ]
  },
  {
   "cell_type": "markdown",
   "id": "4168bf46",
   "metadata": {},
   "source": [
    "### Check model residuals (residuals = observed prices minus predicted prices)"
   ]
  },
  {
   "cell_type": "code",
   "execution_count": 113,
   "id": "c706dc0f",
   "metadata": {},
   "outputs": [
    {
     "name": "stdout",
     "output_type": "stream",
     "text": [
      "1st Predicted price in dataset: 2898.72\n",
      "1st Observed price in dataset: 1441.00\n",
      "1st Residual price in dataset: -1457.72\n"
     ]
    }
   ],
   "source": [
    "# Calculate model residuals for train data\n",
    "residuals = y_train - mymodel\n",
    "\n",
    "# Check the first residual value in our data set\n",
    "print(f'1st Predicted price in dataset: {mymodel[0]:.2f}')\n",
    "print(f'1st Observed price in dataset: {y_train[0]:.2f}')\n",
    "print(f'1st Residual price in dataset: {residuals[0]:.2f}')"
   ]
  },
  {
   "cell_type": "markdown",
   "id": "a61ae5ac",
   "metadata": {},
   "source": [
    "### Plot histogram of residuals"
   ]
  },
  {
   "cell_type": "code",
   "execution_count": 114,
   "id": "74906286",
   "metadata": {},
   "outputs": [
    {
     "data": {
      "image/png": "[encoded data removed]",
      "text/plain": [
       "<Figure size 700x400 with 1 Axes>"
      ]
     },
     "metadata": {},
     "output_type": "display_data"
    }
   ],
   "source": [
    "# Plot histogram of residuals\n",
    "fig = plt.figure( figsize=(7,4))\n",
    "n, bins, patches = plt.hist(x=residuals, \n",
    "                            bins=25, \n",
    "                            color='blue',\n",
    "                            alpha=0.5\n",
    "                   )\n",
    "\n",
    "# Set title and labels\n",
    "plt.xlabel('residuals', fontsize=10, labelpad=10)\n",
    "plt.ylabel('frequency', fontsize=10, labelpad=10)\n",
    "plt.title('Histogram of model residuals', fontsize=12, pad=10)\n",
    "\n",
    "# Show plot\n",
    "plt.show()"
   ]
  },
  {
   "cell_type": "markdown",
   "id": "b3108ba5",
   "metadata": {},
   "source": [
    "### Compare the observed prices with the predicted prices"
   ]
  },
  {
   "cell_type": "code",
   "execution_count": 115,
   "id": "36cdf7b0",
   "metadata": {},
   "outputs": [
    {
     "name": "stdout",
     "output_type": "stream",
     "text": [
      "Observed price: 1360.0, Predicted price: 2031.6\n",
      "Observed price: 1640.0, Predicted price: 2004.5\n",
      "Observed price: 1568.0, Predicted price: 2167.1\n",
      "Observed price: 2290.0, Predicted price: 2207.8\n",
      "Observed price: 4950.0, Predicted price: 2627.8\n",
      "Observed price: 1787.0, Predicted price: 2248.4\n",
      "Observed price: 3495.0, Predicted price: 2519.4\n",
      "Observed price: 2450.0, Predicted price: 2031.6\n",
      "Observed price: 3390.0, Predicted price: 2871.6\n",
      "Observed price: 2836.0, Predicted price: 2573.6\n"
     ]
    }
   ],
   "source": [
    "# Create model predictions for test data\n",
    "predicted = myfunc(X_test)\n",
    "predicted.round(1)\n",
    "\n",
    "# Compare the observed prices with the predicted prices\n",
    "for i in range(0,10):\n",
    "    print(f'Observed price: {y_test.iloc[i]:.1f}, Predicted price: {predicted.iloc[i]:.1f}')"
   ]
  },
  {
   "cell_type": "markdown",
   "id": "90c6419e",
   "metadata": {},
   "source": [
    "### Second Model"
   ]
  },
  {
   "cell_type": "code",
   "execution_count": 116,
   "id": "dfc762e8",
   "metadata": {},
   "outputs": [
    {
     "name": "stdout",
     "output_type": "stream",
     "text": [
      "X_train:\n",
      "503    15.83\n",
      "6      28.46\n",
      "400    23.22\n",
      "644    33.37\n",
      "484    19.78\n",
      "Name: price_per_m2, dtype: float64 \n",
      "\n",
      "y_train:\n",
      "503    120\n",
      "6       65\n",
      "400     90\n",
      "644     63\n",
      "484     91\n",
      "Name: area, dtype: int64\n"
     ]
    }
   ],
   "source": [
    "# Create train and test samples\n",
    "X_train, X_test, y_train, y_test = train_test_split(df['price_per_m2'], \n",
    "                                                    df['area'], \n",
    "                                                    test_size=0.20, \n",
    "                                                    random_state=42)\n",
    "# Show X_train\n",
    "print('X_train:')\n",
    "print(X_train.head(), '\\n')\n",
    "\n",
    "# Show y_train\n",
    "print('y_train:')\n",
    "print(y_train.head())"
   ]
  },
  {
   "cell_type": "code",
   "execution_count": 117,
   "id": "6ca16ab3",
   "metadata": {},
   "outputs": [
    {
     "name": "stdout",
     "output_type": "stream",
     "text": [
      "Linear regression result:\n",
      "Intercept with y-axis (alpha):            136.72\n",
      "Slope of regression line (beta):          -1.567\n",
      "p-value:                                  0.0000\n",
      "R-squared (coefficient of determination): 0.3551\n"
     ]
    }
   ],
   "source": [
    "# Fit the regression model\n",
    "slope, intercept, r, p, std_err = stats.linregress(X_train, y_train)\n",
    "\n",
    "# Print results of the regression model\n",
    "print('Linear regression result:')\n",
    "print(f'Intercept with y-axis (alpha):            {intercept:.2f}')\n",
    "print(f'Slope of regression line (beta):          {slope:.3f}')\n",
    "print(f'p-value:                                  {p:.4f}')\n",
    "print(f'R-squared (coefficient of determination): {r**2:.4f}')"
   ]
  },
  {
   "cell_type": "markdown",
   "id": "ce10efcc",
   "metadata": {},
   "source": [
    "## Explanation\n",
    "The value R-squared has been higher on the original model with price as target variable and area as the explanatory one. This means, the variance of the target variable is explained better on the original model than on the second one and that the price of a flat is normally higher if the area is too."
   ]
  },
  {
   "cell_type": "code",
   "execution_count": 118,
   "id": "e04821cc",
   "metadata": {},
   "outputs": [
    {
     "data": {
      "image/png": "[encoded data removed]",
      "text/plain": [
       "<Figure size 600x400 with 1 Axes>"
      ]
     },
     "metadata": {},
     "output_type": "display_data"
    }
   ],
   "source": [
    "# Function to calculate model predictions\n",
    "def myfunc(x):\n",
    "    return slope * x + intercept\n",
    "\n",
    "# Apply myfunc() to x, i.e. make predictions \n",
    "mymodel = pd.Series(map(myfunc, X_train))\n",
    "\n",
    "# Scatterplot with regression line\n",
    "plt.figure(figsize=(6,4))\n",
    "plt.scatter(X_train, y_train, s=10, color='green')\n",
    "plt.plot(X_train, mymodel, color='darkred', linestyle='dashed')\n",
    "plt.title('Simple Linear Regression')\n",
    "plt.xlabel('price_per_m2 (CHF)')\n",
    "plt.ylabel('area (m2)')\n",
    "\n",
    "plt.show()"
   ]
  },
  {
   "cell_type": "code",
   "execution_count": 119,
   "id": "b255eacb",
   "metadata": {},
   "outputs": [
    {
     "name": "stdout",
     "output_type": "stream",
     "text": [
      "1st Predicted price in dataset: 111.91\n",
      "1st Observed price in dataset: 49.00\n",
      "1st Residual price in dataset: -62.91\n"
     ]
    }
   ],
   "source": [
    "# Calculate model residuals for train data\n",
    "residuals = y_train - mymodel\n",
    "\n",
    "# Check the first residual value in our data set\n",
    "print(f'1st Predicted price in dataset: {mymodel[0]:.2f}')\n",
    "print(f'1st Observed price in dataset: {y_train[0]:.2f}')\n",
    "print(f'1st Residual price in dataset: {residuals[0]:.2f}')"
   ]
  },
  {
   "cell_type": "code",
   "execution_count": 120,
   "id": "35d69a7b",
   "metadata": {},
   "outputs": [
    {
     "data": {
      "image/png": "[encoded data removed]",
      "text/plain": [
       "<Figure size 700x400 with 1 Axes>"
      ]
     },
     "metadata": {},
     "output_type": "display_data"
    }
   ],
   "source": [
    "# Plot histogram of residuals\n",
    "fig = plt.figure( figsize=(7,4))\n",
    "n, bins, patches = plt.hist(x=residuals, \n",
    "                            bins=25, \n",
    "                            color='blue',\n",
    "                            alpha=0.5\n",
    "                   )\n",
    "\n",
    "# Set title and labels\n",
    "plt.xlabel('residuals', fontsize=10, labelpad=10)\n",
    "plt.ylabel('frequency', fontsize=10, labelpad=10)\n",
    "plt.title('Histogram of model residuals', fontsize=12, pad=10)\n",
    "\n",
    "# Show plot\n",
    "plt.show()"
   ]
  },
  {
   "cell_type": "markdown",
   "id": "02bf2467",
   "metadata": {},
   "source": [
    "## Explanation\n",
    "The residuals would nearly show a normal distribution, except from some extreme values on a shlight right skewness."
   ]
  },
  {
   "cell_type": "code",
   "execution_count": 121,
   "id": "d96ced07",
   "metadata": {},
   "outputs": [
    {
     "name": "stdout",
     "output_type": "stream",
     "text": [
      "Observed price_per_m2: 56.0, Predicted price_per_m2: 98.7\n",
      "Observed price_per_m2: 54.0, Predicted price_per_m2: 89.1\n",
      "Observed price_per_m2: 66.0, Predicted price_per_m2: 99.5\n",
      "Observed price_per_m2: 69.0, Predicted price_per_m2: 84.7\n",
      "Observed price_per_m2: 100.0, Predicted price_per_m2: 59.1\n",
      "Observed price_per_m2: 72.0, Predicted price_per_m2: 97.8\n",
      "Observed price_per_m2: 92.0, Predicted price_per_m2: 77.2\n",
      "Observed price_per_m2: 56.0, Predicted price_per_m2: 68.1\n",
      "Observed price_per_m2: 118.0, Predicted price_per_m2: 91.7\n",
      "Observed price_per_m2: 96.0, Predicted price_per_m2: 90.4\n"
     ]
    }
   ],
   "source": [
    "# Create model predictions for test data\n",
    "predicted = myfunc(X_test)\n",
    "predicted.round(1)\n",
    "\n",
    "# Compare the observed prices with the predicted prices\n",
    "for i in range(0,10):\n",
    "    print(f'Observed price_per_m2: {y_test.iloc[i]:.1f}, Predicted price_per_m2: {predicted.iloc[i]:.1f}')"
   ]
  },
  {
   "cell_type": "markdown",
   "id": "e6835546",
   "metadata": {},
   "source": [
    "### Third Model"
   ]
  },
  {
   "cell_type": "code",
   "execution_count": 122,
   "id": "5b3ab535",
   "metadata": {},
   "outputs": [
    {
     "name": "stdout",
     "output_type": "stream",
     "text": [
      "X_train:\n",
      "503    15.83\n",
      "6      28.46\n",
      "400    23.22\n",
      "644    33.37\n",
      "484    19.78\n",
      "Name: price_per_m2, dtype: float64 \n",
      "\n",
      "y_train:\n",
      "503    6.5\n",
      "6      3.5\n",
      "400    3.5\n",
      "644    2.5\n",
      "484    3.5\n",
      "Name: rooms, dtype: float64\n"
     ]
    }
   ],
   "source": [
    "# Create train and test samples\n",
    "X_train, X_test, y_train, y_test = train_test_split(df['price_per_m2'], \n",
    "                                                    df['rooms'], \n",
    "                                                    test_size=0.20, \n",
    "                                                    random_state=42)\n",
    "# Show X_train\n",
    "print('X_train:')\n",
    "print(X_train.head(), '\\n')\n",
    "\n",
    "# Show y_train\n",
    "print('y_train:')\n",
    "print(y_train.head())"
   ]
  },
  {
   "cell_type": "code",
   "execution_count": 123,
   "id": "f7a94404",
   "metadata": {},
   "outputs": [
    {
     "name": "stdout",
     "output_type": "stream",
     "text": [
      "Linear regression result:\n",
      "Intercept with y-axis (alpha):            4.99\n",
      "Slope of regression line (beta):          -0.050\n",
      "p-value:                                  0.0000\n",
      "R-squared (coefficient of determination): 0.3116\n"
     ]
    }
   ],
   "source": [
    "# Fit the regression model\n",
    "slope, intercept, r, p, std_err = stats.linregress(X_train, y_train)\n",
    "\n",
    "# Print results of the regression model\n",
    "print('Linear regression result:')\n",
    "print(f'Intercept with y-axis (alpha):            {intercept:.2f}')\n",
    "print(f'Slope of regression line (beta):          {slope:.3f}')\n",
    "print(f'p-value:                                  {p:.4f}')\n",
    "print(f'R-squared (coefficient of determination): {r**2:.4f}')"
   ]
  },
  {
   "cell_type": "markdown",
   "id": "5b73ce4f",
   "metadata": {},
   "source": [
    "## Explanation\n",
    "The value R-squared has been higher on the original model with price as target variable and area as the explanatory one. This means, the variance of the target variable is explained better on the original model than on the second one and that the number of rooms does not really explain the price_per_m2 of a flat."
   ]
  },
  {
   "cell_type": "code",
   "execution_count": 124,
   "id": "37e36e51",
   "metadata": {},
   "outputs": [
    {
     "data": {
      "image/png": "[encoded data removed]",
      "text/plain": [
       "<Figure size 600x400 with 1 Axes>"
      ]
     },
     "metadata": {},
     "output_type": "display_data"
    }
   ],
   "source": [
    "# Function to calculate model predictions\n",
    "def myfunc(x):\n",
    "    return slope * x + intercept\n",
    "\n",
    "# Apply myfunc() to x, i.e. make predictions \n",
    "mymodel = pd.Series(map(myfunc, X_train))\n",
    "\n",
    "# Scatterplot with regression line\n",
    "plt.figure(figsize=(6,4))\n",
    "plt.scatter(X_train, y_train, s=10, color='green')\n",
    "plt.plot(X_train, mymodel, color='darkred', linestyle='dashed')\n",
    "plt.title('Simple Linear Regression')\n",
    "plt.xlabel('area (m2)')\n",
    "plt.ylabel('price (CHF)')\n",
    "\n",
    "plt.show()"
   ]
  },
  {
   "cell_type": "code",
   "execution_count": 125,
   "id": "eb8645e7",
   "metadata": {},
   "outputs": [
    {
     "name": "stdout",
     "output_type": "stream",
     "text": [
      "1st Predicted price in dataset: 4.20\n",
      "1st Observed price in dataset: 3.00\n",
      "1st Residual price in dataset: -1.20\n"
     ]
    }
   ],
   "source": [
    "# Calculate model residuals for train data\n",
    "residuals = y_train - mymodel\n",
    "\n",
    "# Check the first residual value in our data set\n",
    "print(f'1st Predicted price in dataset: {mymodel[0]:.2f}')\n",
    "print(f'1st Observed price in dataset: {y_train[0]:.2f}')\n",
    "print(f'1st Residual price in dataset: {residuals[0]:.2f}')"
   ]
  },
  {
   "cell_type": "code",
   "execution_count": 126,
   "id": "3e4ebdd5",
   "metadata": {},
   "outputs": [
    {
     "data": {
      "image/png": "[encoded data removed]",
      "text/plain": [
       "<Figure size 700x400 with 1 Axes>"
      ]
     },
     "metadata": {},
     "output_type": "display_data"
    }
   ],
   "source": [
    "# Plot histogram of residuals\n",
    "fig = plt.figure( figsize=(7,4))\n",
    "n, bins, patches = plt.hist(x=residuals, \n",
    "                            bins=25, \n",
    "                            color='blue',\n",
    "                            alpha=0.5\n",
    "                   )\n",
    "\n",
    "# Set title and labels\n",
    "plt.xlabel('residuals', fontsize=10, labelpad=10)\n",
    "plt.ylabel('frequency', fontsize=10, labelpad=10)\n",
    "plt.title('Histogram of model residuals', fontsize=12, pad=10)\n",
    "\n",
    "# Show plot\n",
    "plt.show()"
   ]
  },
  {
   "cell_type": "markdown",
   "id": "6472c75b",
   "metadata": {},
   "source": [
    "## Explanation\n",
    "The residuals do not show a normal distribution."
   ]
  },
  {
   "cell_type": "code",
   "execution_count": 127,
   "id": "62b4462b",
   "metadata": {},
   "outputs": [
    {
     "name": "stdout",
     "output_type": "stream",
     "text": [
      "Observed rooms: 2.0, Predicted rooms: 3.8\n",
      "Observed rooms: 3.0, Predicted rooms: 3.5\n",
      "Observed rooms: 3.5, Predicted rooms: 3.8\n",
      "Observed rooms: 2.5, Predicted rooms: 3.3\n",
      "Observed rooms: 3.5, Predicted rooms: 2.5\n",
      "Observed rooms: 2.5, Predicted rooms: 3.8\n",
      "Observed rooms: 4.0, Predicted rooms: 3.1\n",
      "Observed rooms: 2.5, Predicted rooms: 2.8\n",
      "Observed rooms: 4.5, Predicted rooms: 3.6\n",
      "Observed rooms: 3.5, Predicted rooms: 3.5\n"
     ]
    }
   ],
   "source": [
    "# Create model predictions for test data\n",
    "predicted = myfunc(X_test)\n",
    "predicted.round(1)\n",
    "\n",
    "# Compare the observed prices with the predicted prices\n",
    "for i in range(0,10):\n",
    "    print(f'Observed rooms: {y_test.iloc[i]:.1f}, Predicted rooms: {predicted.iloc[i]:.1f}')"
   ]
  },
  {
   "cell_type": "markdown",
   "id": "0bf7656b",
   "metadata": {},
   "source": [
    "## Multiple linear regression (more than one explanatory variable in the model)\n",
    "For details see: https://www.statsmodels.org/dev/examples/notebooks/generated/predict.html"
   ]
  },
  {
   "cell_type": "markdown",
   "id": "9268293c",
   "metadata": {},
   "source": [
    "### Create train and test samples (train = 80%, test = 20% of the data)"
   ]
  },
  {
   "cell_type": "code",
   "execution_count": 132,
   "id": "26c6c61e",
   "metadata": {},
   "outputs": [
    {
     "name": "stdout",
     "output_type": "stream",
     "text": [
      "X2_train:\n",
      "     area     pop_dens  mean_taxable_income  dist_supermarket\n",
      "503   120   165.018625          65380.98802       1958.318650\n",
      "6      65   525.662252         111422.35870        282.095910\n",
      "400    90   424.146342          72133.75058       2606.231069\n",
      "644    63  1044.628957          70964.08794        564.607066\n",
      "484    91   399.525129          62000.54187        646.823905 \n",
      "\n",
      "y2_train:\n",
      "503    1900\n",
      "6      1850\n",
      "400    2090\n",
      "644    2102\n",
      "484    1800\n",
      "Name: price, dtype: int64\n"
     ]
    }
   ],
   "source": [
    "# Create train and test samples (we name it X2_ and y_2 because we already used X_ and y_ above)\n",
    "X2_train, X2_test, y2_train, y2_test = train_test_split(df[['area',\n",
    "                                                            'pop_dens',\n",
    "                                                            'mean_taxable_income',\n",
    "                                                            'dist_supermarket']], \n",
    "                                                        df['price'], \n",
    "                                                        test_size=0.20, \n",
    "                                                        random_state=42)\n",
    "\n",
    "# Show X2_train\n",
    "print('X2_train:')\n",
    "print(X2_train.head(), '\\n')\n",
    "\n",
    "# Show y2_train\n",
    "print('y2_train:')\n",
    "print(y2_train.head())"
   ]
  },
  {
   "cell_type": "markdown",
   "id": "493cef96",
   "metadata": {},
   "source": [
    "### Fit the multiple regression model (yes, the output is rich :-), but we need only part of it for interpretation!)"
   ]
  },
  {
   "cell_type": "code",
   "execution_count": 133,
   "id": "41939144",
   "metadata": {},
   "outputs": [
    {
     "name": "stdout",
     "output_type": "stream",
     "text": [
      "                            OLS Regression Results                            \n",
      "==============================================================================\n",
      "Dep. Variable:                  rooms   R-squared:                       0.690\n",
      "Model:                            OLS   Adj. R-squared:                  0.688\n",
      "Method:                 Least Squares   F-statistic:                     318.4\n",
      "Date:                Mon, 09 Dec 2024   Prob (F-statistic):          6.43e-144\n",
      "Time:                        15:07:08   Log-Likelihood:                -590.78\n",
      "No. Observations:                 577   AIC:                             1192.\n",
      "Df Residuals:                     572   BIC:                             1213.\n",
      "Df Model:                           4                                         \n",
      "Covariance Type:            nonrobust                                         \n",
      "=======================================================================================\n",
      "                          coef    std err          t      P>|t|      [0.025      0.975]\n",
      "---------------------------------------------------------------------------------------\n",
      "const                   1.3309      0.194      6.872      0.000       0.951       1.711\n",
      "area                    0.0267      0.001     31.159      0.000       0.025       0.028\n",
      "pop_dens            -4.718e-05   1.95e-05     -2.424      0.016   -8.54e-05   -8.96e-06\n",
      "mean_taxable_income  -2.29e-06   2.22e-06     -1.029      0.304   -6.66e-06    2.08e-06\n",
      "dist_supermarket        0.0001   5.85e-05      1.797      0.073   -9.77e-06       0.000\n",
      "==============================================================================\n",
      "Omnibus:                      188.577   Durbin-Watson:                   1.870\n",
      "Prob(Omnibus):                  0.000   Jarque-Bera (JB):             1081.013\n",
      "Skew:                          -1.322   Prob(JB):                    1.82e-235\n",
      "Kurtosis:                       9.162   Cond. No.                     5.56e+05\n",
      "==============================================================================\n",
      "\n",
      "Notes:\n",
      "[1] Standard Errors assume that the covariance matrix of the errors is correctly specified.\n",
      "[2] The condition number is large, 5.56e+05. This might indicate that there are\n",
      "strong multicollinearity or other numerical problems.\n"
     ]
    }
   ],
   "source": [
    "# Add constant to the model\n",
    "X2_train_const = sm.add_constant(X2_train)\n",
    "\n",
    "# Create the multiple regression model\n",
    "olsmod = sm.OLS(y_train, X2_train_const)\n",
    "olsres = olsmod.fit()\n",
    "\n",
    "# Print full model output\n",
    "print(olsres.summary())"
   ]
  },
  {
   "cell_type": "markdown",
   "id": "f1a2dc8e",
   "metadata": {},
   "source": [
    "## Interpretation\n",
    "The variables area and pop_dens are statistically significant because of the p-value is lower than 0.05. mean_taxable_income and dist_supermarket are not showing statistically significance because of a higher p-value than 0.05."
   ]
  },
  {
   "cell_type": "markdown",
   "id": "6bfc2964",
   "metadata": {},
   "source": [
    "### Interpretation of the relevant (in this course) statistics in the table above"
   ]
  },
  {
   "cell_type": "markdown",
   "id": "4e62547e",
   "metadata": {},
   "source": [
    "<b>R-squared:</b> This is the coefficient of determination (see slides of lessons). A value of 0.522 means, that the explanatory variables explain 52% of the variaton of our target variable (rental prices) - not bad, but could be improved.\n",
    "\n",
    "<b>coef:</b> These are the estimated coefficients of the explanatory variables ('slopes of the regression line' of each variable). These are nedded for the price predictions in our model.\n",
    "\n",
    "<b>P>|t|:</b> These are the p-values. If < 0.05, the explanatory variables shows a statistically siginificant (5% significance level) contribution in explaining the target variable. Except for the distiance to the nearest supermarkt, all variables are significant here."
   ]
  },
  {
   "cell_type": "markdown",
   "id": "1cb8a8c5",
   "metadata": {},
   "source": [
    "### Plot histogram of residuals"
   ]
  },
  {
   "cell_type": "code",
   "execution_count": null,
   "id": "c28ffef9",
   "metadata": {},
   "outputs": [
    {
     "data": {
      "image/png": "[encoded data removed]",
      "text/plain": [
       "<Figure size 800x400 with 1 Axes>"
      ]
     },
     "metadata": {},
     "output_type": "display_data"
    }
   ],
   "source": [
    "# Plot histogram of residuals\n",
    "fig = plt.figure( figsize=(8,4))\n",
    "n, bins, patches = plt.hist(x=olsres.resid, \n",
    "                            bins=25, \n",
    "                            color='blue',\n",
    "                            alpha=0.5\n",
    "                   )\n",
    "\n",
    "# Set labels\n",
    "plt.xlabel('residuals', fontsize=10, labelpad=10)\n",
    "plt.ylabel('frequency', fontsize=10, labelpad=10)\n",
    "plt.title('Histogram of model residuals', fontsize=12, pad=10)\n",
    "\n",
    "plt.show()"
   ]
  },
  {
   "cell_type": "markdown",
   "id": "5dd244d9",
   "metadata": {},
   "source": [
    "### Compare the observed prices with the predicted prices"
   ]
  },
  {
   "cell_type": "code",
   "execution_count": null,
   "id": "798fac9c",
   "metadata": {},
   "outputs": [
    {
     "name": "stdout",
     "output_type": "stream",
     "text": [
      "Observed price: 2.0, Predicted price: 2.6\n",
      "Observed price: 3.0, Predicted price: 2.6\n",
      "Observed price: 3.5, Predicted price: 2.9\n",
      "Observed price: 2.5, Predicted price: 2.8\n",
      "Observed price: 3.5, Predicted price: 3.8\n",
      "Observed price: 2.5, Predicted price: 3.0\n",
      "Observed price: 4.0, Predicted price: 3.4\n",
      "Observed price: 2.5, Predicted price: 2.4\n",
      "Observed price: 4.5, Predicted price: 4.3\n",
      "Observed price: 3.5, Predicted price: 3.7\n"
     ]
    }
   ],
   "source": [
    "# Add constant to X2_test\n",
    "X2_test_const = sm.add_constant(X2_test)\n",
    "predicted_new = olsres.predict(X2_test_const)\n",
    "\n",
    "# Compare the observed prices with the predicted prices\n",
    "for i in range(0,10):\n",
    "    print(f'Observed price: {y_test.iloc[i]:.1f}, Predicted price: {predicted_new.iloc[i]:.1f}')"
   ]
  },
  {
   "cell_type": "markdown",
   "id": "b3468eec",
   "metadata": {},
   "source": [
    "### Jupyter notebook --footer info-- (please always provide this at the end of each submitted notebook)"
   ]
  },
  {
   "cell_type": "code",
   "execution_count": null,
   "id": "64f26a9e",
   "metadata": {},
   "outputs": [
    {
     "name": "stdout",
     "output_type": "stream",
     "text": [
      "-----------------------------------\n",
      "POSIX\n",
      "Linux | 6.5.0-1025-azure\n",
      "Datetime: 2024-12-09 14:16:35\n",
      "Python Version: 3.11.10\n",
      "-----------------------------------\n"
     ]
    }
   ],
   "source": [
    "import os\n",
    "import platform\n",
    "import socket\n",
    "from platform import python_version\n",
    "from datetime import datetime\n",
    "\n",
    "print('-----------------------------------')\n",
    "print(os.name.upper())\n",
    "print(platform.system(), '|', platform.release())\n",
    "print('Datetime:', datetime.now().strftime(\"%Y-%m-%d %H:%M:%S\"))\n",
    "print('Python Version:', python_version())\n",
    "print('-----------------------------------')"
   ]
  }
 ],
 "metadata": {
  "kernelspec": {
   "display_name": "Python 3",
   "language": "python",
   "name": "python3"
  },
  "language_info": {
   "codemirror_mode": {
    "name": "ipython",
    "version": 3
   },
   "file_extension": ".py",
   "mimetype": "text/x-python",
   "name": "python",
   "nbconvert_exporter": "python",
   "pygments_lexer": "ipython3",
   "version": "3.11.10"
  }
 },
 "nbformat": 4,
 "nbformat_minor": 5
}
